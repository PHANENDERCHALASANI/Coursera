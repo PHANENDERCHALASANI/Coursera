{
 "cells": [
  {
   "cell_type": "markdown",
   "id": "445747b0",
   "metadata": {},
   "source": [
    "# My Jupyter Notebook on IBM Watson Studio"
   ]
  },
  {
   "cell_type": "markdown",
   "id": "c7007622",
   "metadata": {},
   "source": [
    "**PHANENDER**\n",
    " \n",
    "Data Engineer"
   ]
  },
  {
   "cell_type": "markdown",
   "id": "e0c7a31c",
   "metadata": {},
   "source": [
    "*I am interested in data science because, I like to analyze data and find the required solutions for a problem.*"
   ]
  },
  {
   "cell_type": "markdown",
   "id": "1f25df08",
   "metadata": {},
   "source": [
    "### The below code should print Hello world"
   ]
  },
  {
   "cell_type": "code",
   "execution_count": 4,
   "id": "520f6acf",
   "metadata": {},
   "outputs": [
    {
     "name": "stdout",
     "output_type": "stream",
     "text": [
      "Hello world\n"
     ]
    }
   ],
   "source": [
    "print(\"Hello world\")"
   ]
  },
  {
   "cell_type": "markdown",
   "id": "59f83b24",
   "metadata": {},
   "source": [
    "1. This is number list\n",
    "* This is bullet list\n",
    "***\n",
    "This is horizontal rule\n",
    "***"
   ]
  },
  {
   "cell_type": "code",
   "execution_count": null,
   "id": "e70920ef",
   "metadata": {},
   "outputs": [],
   "source": []
  },
  {
   "cell_type": "code",
   "execution_count": null,
   "id": "b23cc469",
   "metadata": {},
   "outputs": [],
   "source": []
  }
 ],
 "metadata": {
  "kernelspec": {
   "display_name": "Python 3",
   "language": "python",
   "name": "python3"
  },
  "language_info": {
   "codemirror_mode": {
    "name": "ipython",
    "version": 3
   },
   "file_extension": ".py",
   "mimetype": "text/x-python",
   "name": "python",
   "nbconvert_exporter": "python",
   "pygments_lexer": "ipython3",
   "version": "3.8.8"
  }
 },
 "nbformat": 4,
 "nbformat_minor": 5
}
